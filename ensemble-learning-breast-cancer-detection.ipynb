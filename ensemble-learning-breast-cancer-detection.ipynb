{
 "cells": [
  {
   "cell_type": "code",
   "execution_count": 1,
   "id": "d334f438",
   "metadata": {
    "execution": {
     "iopub.execute_input": "2022-12-08T12:17:05.947650Z",
     "iopub.status.busy": "2022-12-08T12:17:05.947188Z",
     "iopub.status.idle": "2022-12-08T12:17:07.037201Z",
     "shell.execute_reply": "2022-12-08T12:17:07.036399Z"
    },
    "papermill": {
     "duration": 1.10163,
     "end_time": "2022-12-08T12:17:07.039942",
     "exception": false,
     "start_time": "2022-12-08T12:17:05.938312",
     "status": "completed"
    },
    "tags": []
   },
   "outputs": [],
   "source": [
    "import pandas as pd\n",
    "import numpy as np\n",
    "import matplotlib.pyplot as plt\n",
    "import seaborn as sns\n",
    "from sklearn.datasets import load_breast_cancer\n",
    "%matplotlib inline\n",
    "sns.set_style(\"whitegrid\")\n",
    "plt.style.use(\"fivethirtyeight\")"
   ]
  },
  {
   "cell_type": "code",
   "execution_count": 2,
   "id": "b2ca3526",
   "metadata": {
    "execution": {
     "iopub.execute_input": "2022-12-08T12:17:07.053636Z",
     "iopub.status.busy": "2022-12-08T12:17:07.053253Z",
     "iopub.status.idle": "2022-12-08T12:17:07.102723Z",
     "shell.execute_reply": "2022-12-08T12:17:07.102014Z"
    },
    "papermill": {
     "duration": 0.059494,
     "end_time": "2022-12-08T12:17:07.105524",
     "exception": false,
     "start_time": "2022-12-08T12:17:07.046030",
     "status": "completed"
    },
    "tags": []
   },
   "outputs": [
    {
     "data": {
      "text/html": [
       "<div>\n",
       "<style scoped>\n",
       "    .dataframe tbody tr th:only-of-type {\n",
       "        vertical-align: middle;\n",
       "    }\n",
       "\n",
       "    .dataframe tbody tr th {\n",
       "        vertical-align: top;\n",
       "    }\n",
       "\n",
       "    .dataframe thead th {\n",
       "        text-align: right;\n",
       "    }\n",
       "</style>\n",
       "<table border=\"1\" class=\"dataframe\">\n",
       "  <thead>\n",
       "    <tr style=\"text-align: right;\">\n",
       "      <th></th>\n",
       "      <th>mean radius</th>\n",
       "      <th>mean texture</th>\n",
       "      <th>mean perimeter</th>\n",
       "      <th>mean area</th>\n",
       "      <th>mean smoothness</th>\n",
       "      <th>mean compactness</th>\n",
       "      <th>mean concavity</th>\n",
       "      <th>mean concave points</th>\n",
       "      <th>mean symmetry</th>\n",
       "      <th>mean fractal dimension</th>\n",
       "      <th>...</th>\n",
       "      <th>worst radius</th>\n",
       "      <th>worst texture</th>\n",
       "      <th>worst perimeter</th>\n",
       "      <th>worst area</th>\n",
       "      <th>worst smoothness</th>\n",
       "      <th>worst compactness</th>\n",
       "      <th>worst concavity</th>\n",
       "      <th>worst concave points</th>\n",
       "      <th>worst symmetry</th>\n",
       "      <th>worst fractal dimension</th>\n",
       "    </tr>\n",
       "  </thead>\n",
       "  <tbody>\n",
       "    <tr>\n",
       "      <th>0</th>\n",
       "      <td>17.99</td>\n",
       "      <td>10.38</td>\n",
       "      <td>122.80</td>\n",
       "      <td>1001.0</td>\n",
       "      <td>0.11840</td>\n",
       "      <td>0.27760</td>\n",
       "      <td>0.3001</td>\n",
       "      <td>0.14710</td>\n",
       "      <td>0.2419</td>\n",
       "      <td>0.07871</td>\n",
       "      <td>...</td>\n",
       "      <td>25.38</td>\n",
       "      <td>17.33</td>\n",
       "      <td>184.60</td>\n",
       "      <td>2019.0</td>\n",
       "      <td>0.1622</td>\n",
       "      <td>0.6656</td>\n",
       "      <td>0.7119</td>\n",
       "      <td>0.2654</td>\n",
       "      <td>0.4601</td>\n",
       "      <td>0.11890</td>\n",
       "    </tr>\n",
       "    <tr>\n",
       "      <th>1</th>\n",
       "      <td>20.57</td>\n",
       "      <td>17.77</td>\n",
       "      <td>132.90</td>\n",
       "      <td>1326.0</td>\n",
       "      <td>0.08474</td>\n",
       "      <td>0.07864</td>\n",
       "      <td>0.0869</td>\n",
       "      <td>0.07017</td>\n",
       "      <td>0.1812</td>\n",
       "      <td>0.05667</td>\n",
       "      <td>...</td>\n",
       "      <td>24.99</td>\n",
       "      <td>23.41</td>\n",
       "      <td>158.80</td>\n",
       "      <td>1956.0</td>\n",
       "      <td>0.1238</td>\n",
       "      <td>0.1866</td>\n",
       "      <td>0.2416</td>\n",
       "      <td>0.1860</td>\n",
       "      <td>0.2750</td>\n",
       "      <td>0.08902</td>\n",
       "    </tr>\n",
       "    <tr>\n",
       "      <th>2</th>\n",
       "      <td>19.69</td>\n",
       "      <td>21.25</td>\n",
       "      <td>130.00</td>\n",
       "      <td>1203.0</td>\n",
       "      <td>0.10960</td>\n",
       "      <td>0.15990</td>\n",
       "      <td>0.1974</td>\n",
       "      <td>0.12790</td>\n",
       "      <td>0.2069</td>\n",
       "      <td>0.05999</td>\n",
       "      <td>...</td>\n",
       "      <td>23.57</td>\n",
       "      <td>25.53</td>\n",
       "      <td>152.50</td>\n",
       "      <td>1709.0</td>\n",
       "      <td>0.1444</td>\n",
       "      <td>0.4245</td>\n",
       "      <td>0.4504</td>\n",
       "      <td>0.2430</td>\n",
       "      <td>0.3613</td>\n",
       "      <td>0.08758</td>\n",
       "    </tr>\n",
       "    <tr>\n",
       "      <th>3</th>\n",
       "      <td>11.42</td>\n",
       "      <td>20.38</td>\n",
       "      <td>77.58</td>\n",
       "      <td>386.1</td>\n",
       "      <td>0.14250</td>\n",
       "      <td>0.28390</td>\n",
       "      <td>0.2414</td>\n",
       "      <td>0.10520</td>\n",
       "      <td>0.2597</td>\n",
       "      <td>0.09744</td>\n",
       "      <td>...</td>\n",
       "      <td>14.91</td>\n",
       "      <td>26.50</td>\n",
       "      <td>98.87</td>\n",
       "      <td>567.7</td>\n",
       "      <td>0.2098</td>\n",
       "      <td>0.8663</td>\n",
       "      <td>0.6869</td>\n",
       "      <td>0.2575</td>\n",
       "      <td>0.6638</td>\n",
       "      <td>0.17300</td>\n",
       "    </tr>\n",
       "    <tr>\n",
       "      <th>4</th>\n",
       "      <td>20.29</td>\n",
       "      <td>14.34</td>\n",
       "      <td>135.10</td>\n",
       "      <td>1297.0</td>\n",
       "      <td>0.10030</td>\n",
       "      <td>0.13280</td>\n",
       "      <td>0.1980</td>\n",
       "      <td>0.10430</td>\n",
       "      <td>0.1809</td>\n",
       "      <td>0.05883</td>\n",
       "      <td>...</td>\n",
       "      <td>22.54</td>\n",
       "      <td>16.67</td>\n",
       "      <td>152.20</td>\n",
       "      <td>1575.0</td>\n",
       "      <td>0.1374</td>\n",
       "      <td>0.2050</td>\n",
       "      <td>0.4000</td>\n",
       "      <td>0.1625</td>\n",
       "      <td>0.2364</td>\n",
       "      <td>0.07678</td>\n",
       "    </tr>\n",
       "  </tbody>\n",
       "</table>\n",
       "<p>5 rows × 30 columns</p>\n",
       "</div>"
      ],
      "text/plain": [
       "   mean radius  mean texture  mean perimeter  mean area  mean smoothness  \\\n",
       "0        17.99         10.38          122.80     1001.0          0.11840   \n",
       "1        20.57         17.77          132.90     1326.0          0.08474   \n",
       "2        19.69         21.25          130.00     1203.0          0.10960   \n",
       "3        11.42         20.38           77.58      386.1          0.14250   \n",
       "4        20.29         14.34          135.10     1297.0          0.10030   \n",
       "\n",
       "   mean compactness  mean concavity  mean concave points  mean symmetry  \\\n",
       "0           0.27760          0.3001              0.14710         0.2419   \n",
       "1           0.07864          0.0869              0.07017         0.1812   \n",
       "2           0.15990          0.1974              0.12790         0.2069   \n",
       "3           0.28390          0.2414              0.10520         0.2597   \n",
       "4           0.13280          0.1980              0.10430         0.1809   \n",
       "\n",
       "   mean fractal dimension  ...  worst radius  worst texture  worst perimeter  \\\n",
       "0                 0.07871  ...         25.38          17.33           184.60   \n",
       "1                 0.05667  ...         24.99          23.41           158.80   \n",
       "2                 0.05999  ...         23.57          25.53           152.50   \n",
       "3                 0.09744  ...         14.91          26.50            98.87   \n",
       "4                 0.05883  ...         22.54          16.67           152.20   \n",
       "\n",
       "   worst area  worst smoothness  worst compactness  worst concavity  \\\n",
       "0      2019.0            0.1622             0.6656           0.7119   \n",
       "1      1956.0            0.1238             0.1866           0.2416   \n",
       "2      1709.0            0.1444             0.4245           0.4504   \n",
       "3       567.7            0.2098             0.8663           0.6869   \n",
       "4      1575.0            0.1374             0.2050           0.4000   \n",
       "\n",
       "   worst concave points  worst symmetry  worst fractal dimension  \n",
       "0                0.2654          0.4601                  0.11890  \n",
       "1                0.1860          0.2750                  0.08902  \n",
       "2                0.2430          0.3613                  0.08758  \n",
       "3                0.2575          0.6638                  0.17300  \n",
       "4                0.1625          0.2364                  0.07678  \n",
       "\n",
       "[5 rows x 30 columns]"
      ]
     },
     "execution_count": 2,
     "metadata": {},
     "output_type": "execute_result"
    }
   ],
   "source": [
    "dataset = load_breast_cancer()\n",
    "dataset.keys()\n",
    "\n",
    "\n",
    "# df = pd.read_csv(\"F:\\ML\\diabetes.csv\")\n",
    "# df.head()\n",
    "\n",
    "df = pd.DataFrame(dataset['data'],columns = dataset['feature_names'])\n",
    "df.head()"
   ]
  },
  {
   "cell_type": "code",
   "execution_count": 3,
   "id": "ccd90231",
   "metadata": {
    "execution": {
     "iopub.execute_input": "2022-12-08T12:17:07.119571Z",
     "iopub.status.busy": "2022-12-08T12:17:07.119091Z",
     "iopub.status.idle": "2022-12-08T12:17:07.144274Z",
     "shell.execute_reply": "2022-12-08T12:17:07.143245Z"
    },
    "papermill": {
     "duration": 0.034626,
     "end_time": "2022-12-08T12:17:07.146420",
     "exception": false,
     "start_time": "2022-12-08T12:17:07.111794",
     "status": "completed"
    },
    "tags": []
   },
   "outputs": [
    {
     "name": "stdout",
     "output_type": "stream",
     "text": [
      "<class 'pandas.core.frame.DataFrame'>\n",
      "RangeIndex: 569 entries, 0 to 568\n",
      "Data columns (total 30 columns):\n",
      " #   Column                   Non-Null Count  Dtype  \n",
      "---  ------                   --------------  -----  \n",
      " 0   mean radius              569 non-null    float64\n",
      " 1   mean texture             569 non-null    float64\n",
      " 2   mean perimeter           569 non-null    float64\n",
      " 3   mean area                569 non-null    float64\n",
      " 4   mean smoothness          569 non-null    float64\n",
      " 5   mean compactness         569 non-null    float64\n",
      " 6   mean concavity           569 non-null    float64\n",
      " 7   mean concave points      569 non-null    float64\n",
      " 8   mean symmetry            569 non-null    float64\n",
      " 9   mean fractal dimension   569 non-null    float64\n",
      " 10  radius error             569 non-null    float64\n",
      " 11  texture error            569 non-null    float64\n",
      " 12  perimeter error          569 non-null    float64\n",
      " 13  area error               569 non-null    float64\n",
      " 14  smoothness error         569 non-null    float64\n",
      " 15  compactness error        569 non-null    float64\n",
      " 16  concavity error          569 non-null    float64\n",
      " 17  concave points error     569 non-null    float64\n",
      " 18  symmetry error           569 non-null    float64\n",
      " 19  fractal dimension error  569 non-null    float64\n",
      " 20  worst radius             569 non-null    float64\n",
      " 21  worst texture            569 non-null    float64\n",
      " 22  worst perimeter          569 non-null    float64\n",
      " 23  worst area               569 non-null    float64\n",
      " 24  worst smoothness         569 non-null    float64\n",
      " 25  worst compactness        569 non-null    float64\n",
      " 26  worst concavity          569 non-null    float64\n",
      " 27  worst concave points     569 non-null    float64\n",
      " 28  worst symmetry           569 non-null    float64\n",
      " 29  worst fractal dimension  569 non-null    float64\n",
      "dtypes: float64(30)\n",
      "memory usage: 133.5 KB\n"
     ]
    }
   ],
   "source": [
    "df.info()"
   ]
  },
  {
   "cell_type": "code",
   "execution_count": 4,
   "id": "40c3344b",
   "metadata": {
    "execution": {
     "iopub.execute_input": "2022-12-08T12:17:07.161288Z",
     "iopub.status.busy": "2022-12-08T12:17:07.160604Z",
     "iopub.status.idle": "2022-12-08T12:17:07.169064Z",
     "shell.execute_reply": "2022-12-08T12:17:07.168365Z"
    },
    "papermill": {
     "duration": 0.017971,
     "end_time": "2022-12-08T12:17:07.170949",
     "exception": false,
     "start_time": "2022-12-08T12:17:07.152978",
     "status": "completed"
    },
    "tags": []
   },
   "outputs": [
    {
     "data": {
      "text/plain": [
       "mean radius                0\n",
       "mean texture               0\n",
       "mean perimeter             0\n",
       "mean area                  0\n",
       "mean smoothness            0\n",
       "mean compactness           0\n",
       "mean concavity             0\n",
       "mean concave points        0\n",
       "mean symmetry              0\n",
       "mean fractal dimension     0\n",
       "radius error               0\n",
       "texture error              0\n",
       "perimeter error            0\n",
       "area error                 0\n",
       "smoothness error           0\n",
       "compactness error          0\n",
       "concavity error            0\n",
       "concave points error       0\n",
       "symmetry error             0\n",
       "fractal dimension error    0\n",
       "worst radius               0\n",
       "worst texture              0\n",
       "worst perimeter            0\n",
       "worst area                 0\n",
       "worst smoothness           0\n",
       "worst compactness          0\n",
       "worst concavity            0\n",
       "worst concave points       0\n",
       "worst symmetry             0\n",
       "worst fractal dimension    0\n",
       "dtype: int64"
      ]
     },
     "execution_count": 4,
     "metadata": {},
     "output_type": "execute_result"
    }
   ],
   "source": [
    "df.isnull().sum()"
   ]
  },
  {
   "cell_type": "code",
   "execution_count": 5,
   "id": "9ba1cf46",
   "metadata": {
    "execution": {
     "iopub.execute_input": "2022-12-08T12:17:07.185992Z",
     "iopub.status.busy": "2022-12-08T12:17:07.185388Z",
     "iopub.status.idle": "2022-12-08T12:17:07.282552Z",
     "shell.execute_reply": "2022-12-08T12:17:07.281496Z"
    },
    "papermill": {
     "duration": 0.10724,
     "end_time": "2022-12-08T12:17:07.284834",
     "exception": false,
     "start_time": "2022-12-08T12:17:07.177594",
     "status": "completed"
    },
    "tags": []
   },
   "outputs": [
    {
     "data": {
      "text/html": [
       "<div>\n",
       "<style scoped>\n",
       "    .dataframe tbody tr th:only-of-type {\n",
       "        vertical-align: middle;\n",
       "    }\n",
       "\n",
       "    .dataframe tbody tr th {\n",
       "        vertical-align: top;\n",
       "    }\n",
       "\n",
       "    .dataframe thead th {\n",
       "        text-align: right;\n",
       "    }\n",
       "</style>\n",
       "<table border=\"1\" class=\"dataframe\">\n",
       "  <thead>\n",
       "    <tr style=\"text-align: right;\">\n",
       "      <th></th>\n",
       "      <th>mean radius</th>\n",
       "      <th>mean texture</th>\n",
       "      <th>mean perimeter</th>\n",
       "      <th>mean area</th>\n",
       "      <th>mean smoothness</th>\n",
       "      <th>mean compactness</th>\n",
       "      <th>mean concavity</th>\n",
       "      <th>mean concave points</th>\n",
       "      <th>mean symmetry</th>\n",
       "      <th>mean fractal dimension</th>\n",
       "      <th>...</th>\n",
       "      <th>worst radius</th>\n",
       "      <th>worst texture</th>\n",
       "      <th>worst perimeter</th>\n",
       "      <th>worst area</th>\n",
       "      <th>worst smoothness</th>\n",
       "      <th>worst compactness</th>\n",
       "      <th>worst concavity</th>\n",
       "      <th>worst concave points</th>\n",
       "      <th>worst symmetry</th>\n",
       "      <th>worst fractal dimension</th>\n",
       "    </tr>\n",
       "  </thead>\n",
       "  <tbody>\n",
       "    <tr>\n",
       "      <th>count</th>\n",
       "      <td>569.00</td>\n",
       "      <td>569.00</td>\n",
       "      <td>569.00</td>\n",
       "      <td>569.00</td>\n",
       "      <td>569.00</td>\n",
       "      <td>569.00</td>\n",
       "      <td>569.00</td>\n",
       "      <td>569.00</td>\n",
       "      <td>569.00</td>\n",
       "      <td>569.00</td>\n",
       "      <td>...</td>\n",
       "      <td>569.00</td>\n",
       "      <td>569.00</td>\n",
       "      <td>569.00</td>\n",
       "      <td>569.00</td>\n",
       "      <td>569.00</td>\n",
       "      <td>569.00</td>\n",
       "      <td>569.00</td>\n",
       "      <td>569.00</td>\n",
       "      <td>569.00</td>\n",
       "      <td>569.00</td>\n",
       "    </tr>\n",
       "    <tr>\n",
       "      <th>mean</th>\n",
       "      <td>14.13</td>\n",
       "      <td>19.29</td>\n",
       "      <td>91.97</td>\n",
       "      <td>654.89</td>\n",
       "      <td>0.10</td>\n",
       "      <td>0.10</td>\n",
       "      <td>0.09</td>\n",
       "      <td>0.05</td>\n",
       "      <td>0.18</td>\n",
       "      <td>0.06</td>\n",
       "      <td>...</td>\n",
       "      <td>16.27</td>\n",
       "      <td>25.68</td>\n",
       "      <td>107.26</td>\n",
       "      <td>880.58</td>\n",
       "      <td>0.13</td>\n",
       "      <td>0.25</td>\n",
       "      <td>0.27</td>\n",
       "      <td>0.11</td>\n",
       "      <td>0.29</td>\n",
       "      <td>0.08</td>\n",
       "    </tr>\n",
       "    <tr>\n",
       "      <th>std</th>\n",
       "      <td>3.52</td>\n",
       "      <td>4.30</td>\n",
       "      <td>24.30</td>\n",
       "      <td>351.91</td>\n",
       "      <td>0.01</td>\n",
       "      <td>0.05</td>\n",
       "      <td>0.08</td>\n",
       "      <td>0.04</td>\n",
       "      <td>0.03</td>\n",
       "      <td>0.01</td>\n",
       "      <td>...</td>\n",
       "      <td>4.83</td>\n",
       "      <td>6.15</td>\n",
       "      <td>33.60</td>\n",
       "      <td>569.36</td>\n",
       "      <td>0.02</td>\n",
       "      <td>0.16</td>\n",
       "      <td>0.21</td>\n",
       "      <td>0.07</td>\n",
       "      <td>0.06</td>\n",
       "      <td>0.02</td>\n",
       "    </tr>\n",
       "    <tr>\n",
       "      <th>min</th>\n",
       "      <td>6.98</td>\n",
       "      <td>9.71</td>\n",
       "      <td>43.79</td>\n",
       "      <td>143.50</td>\n",
       "      <td>0.05</td>\n",
       "      <td>0.02</td>\n",
       "      <td>0.00</td>\n",
       "      <td>0.00</td>\n",
       "      <td>0.11</td>\n",
       "      <td>0.05</td>\n",
       "      <td>...</td>\n",
       "      <td>7.93</td>\n",
       "      <td>12.02</td>\n",
       "      <td>50.41</td>\n",
       "      <td>185.20</td>\n",
       "      <td>0.07</td>\n",
       "      <td>0.03</td>\n",
       "      <td>0.00</td>\n",
       "      <td>0.00</td>\n",
       "      <td>0.16</td>\n",
       "      <td>0.06</td>\n",
       "    </tr>\n",
       "    <tr>\n",
       "      <th>25%</th>\n",
       "      <td>11.70</td>\n",
       "      <td>16.17</td>\n",
       "      <td>75.17</td>\n",
       "      <td>420.30</td>\n",
       "      <td>0.09</td>\n",
       "      <td>0.06</td>\n",
       "      <td>0.03</td>\n",
       "      <td>0.02</td>\n",
       "      <td>0.16</td>\n",
       "      <td>0.06</td>\n",
       "      <td>...</td>\n",
       "      <td>13.01</td>\n",
       "      <td>21.08</td>\n",
       "      <td>84.11</td>\n",
       "      <td>515.30</td>\n",
       "      <td>0.12</td>\n",
       "      <td>0.15</td>\n",
       "      <td>0.11</td>\n",
       "      <td>0.06</td>\n",
       "      <td>0.25</td>\n",
       "      <td>0.07</td>\n",
       "    </tr>\n",
       "    <tr>\n",
       "      <th>50%</th>\n",
       "      <td>13.37</td>\n",
       "      <td>18.84</td>\n",
       "      <td>86.24</td>\n",
       "      <td>551.10</td>\n",
       "      <td>0.10</td>\n",
       "      <td>0.09</td>\n",
       "      <td>0.06</td>\n",
       "      <td>0.03</td>\n",
       "      <td>0.18</td>\n",
       "      <td>0.06</td>\n",
       "      <td>...</td>\n",
       "      <td>14.97</td>\n",
       "      <td>25.41</td>\n",
       "      <td>97.66</td>\n",
       "      <td>686.50</td>\n",
       "      <td>0.13</td>\n",
       "      <td>0.21</td>\n",
       "      <td>0.23</td>\n",
       "      <td>0.10</td>\n",
       "      <td>0.28</td>\n",
       "      <td>0.08</td>\n",
       "    </tr>\n",
       "    <tr>\n",
       "      <th>75%</th>\n",
       "      <td>15.78</td>\n",
       "      <td>21.80</td>\n",
       "      <td>104.10</td>\n",
       "      <td>782.70</td>\n",
       "      <td>0.11</td>\n",
       "      <td>0.13</td>\n",
       "      <td>0.13</td>\n",
       "      <td>0.07</td>\n",
       "      <td>0.20</td>\n",
       "      <td>0.07</td>\n",
       "      <td>...</td>\n",
       "      <td>18.79</td>\n",
       "      <td>29.72</td>\n",
       "      <td>125.40</td>\n",
       "      <td>1084.00</td>\n",
       "      <td>0.15</td>\n",
       "      <td>0.34</td>\n",
       "      <td>0.38</td>\n",
       "      <td>0.16</td>\n",
       "      <td>0.32</td>\n",
       "      <td>0.09</td>\n",
       "    </tr>\n",
       "    <tr>\n",
       "      <th>max</th>\n",
       "      <td>28.11</td>\n",
       "      <td>39.28</td>\n",
       "      <td>188.50</td>\n",
       "      <td>2501.00</td>\n",
       "      <td>0.16</td>\n",
       "      <td>0.35</td>\n",
       "      <td>0.43</td>\n",
       "      <td>0.20</td>\n",
       "      <td>0.30</td>\n",
       "      <td>0.10</td>\n",
       "      <td>...</td>\n",
       "      <td>36.04</td>\n",
       "      <td>49.54</td>\n",
       "      <td>251.20</td>\n",
       "      <td>4254.00</td>\n",
       "      <td>0.22</td>\n",
       "      <td>1.06</td>\n",
       "      <td>1.25</td>\n",
       "      <td>0.29</td>\n",
       "      <td>0.66</td>\n",
       "      <td>0.21</td>\n",
       "    </tr>\n",
       "  </tbody>\n",
       "</table>\n",
       "<p>8 rows × 30 columns</p>\n",
       "</div>"
      ],
      "text/plain": [
       "       mean radius  mean texture  mean perimeter  mean area  mean smoothness  \\\n",
       "count       569.00        569.00          569.00     569.00           569.00   \n",
       "mean         14.13         19.29           91.97     654.89             0.10   \n",
       "std           3.52          4.30           24.30     351.91             0.01   \n",
       "min           6.98          9.71           43.79     143.50             0.05   \n",
       "25%          11.70         16.17           75.17     420.30             0.09   \n",
       "50%          13.37         18.84           86.24     551.10             0.10   \n",
       "75%          15.78         21.80          104.10     782.70             0.11   \n",
       "max          28.11         39.28          188.50    2501.00             0.16   \n",
       "\n",
       "       mean compactness  mean concavity  mean concave points  mean symmetry  \\\n",
       "count            569.00          569.00               569.00         569.00   \n",
       "mean               0.10            0.09                 0.05           0.18   \n",
       "std                0.05            0.08                 0.04           0.03   \n",
       "min                0.02            0.00                 0.00           0.11   \n",
       "25%                0.06            0.03                 0.02           0.16   \n",
       "50%                0.09            0.06                 0.03           0.18   \n",
       "75%                0.13            0.13                 0.07           0.20   \n",
       "max                0.35            0.43                 0.20           0.30   \n",
       "\n",
       "       mean fractal dimension  ...  worst radius  worst texture  \\\n",
       "count                  569.00  ...        569.00         569.00   \n",
       "mean                     0.06  ...         16.27          25.68   \n",
       "std                      0.01  ...          4.83           6.15   \n",
       "min                      0.05  ...          7.93          12.02   \n",
       "25%                      0.06  ...         13.01          21.08   \n",
       "50%                      0.06  ...         14.97          25.41   \n",
       "75%                      0.07  ...         18.79          29.72   \n",
       "max                      0.10  ...         36.04          49.54   \n",
       "\n",
       "       worst perimeter  worst area  worst smoothness  worst compactness  \\\n",
       "count           569.00      569.00            569.00             569.00   \n",
       "mean            107.26      880.58              0.13               0.25   \n",
       "std              33.60      569.36              0.02               0.16   \n",
       "min              50.41      185.20              0.07               0.03   \n",
       "25%              84.11      515.30              0.12               0.15   \n",
       "50%              97.66      686.50              0.13               0.21   \n",
       "75%             125.40     1084.00              0.15               0.34   \n",
       "max             251.20     4254.00              0.22               1.06   \n",
       "\n",
       "       worst concavity  worst concave points  worst symmetry  \\\n",
       "count           569.00                569.00          569.00   \n",
       "mean              0.27                  0.11            0.29   \n",
       "std               0.21                  0.07            0.06   \n",
       "min               0.00                  0.00            0.16   \n",
       "25%               0.11                  0.06            0.25   \n",
       "50%               0.23                  0.10            0.28   \n",
       "75%               0.38                  0.16            0.32   \n",
       "max               1.25                  0.29            0.66   \n",
       "\n",
       "       worst fractal dimension  \n",
       "count                   569.00  \n",
       "mean                      0.08  \n",
       "std                       0.02  \n",
       "min                       0.06  \n",
       "25%                       0.07  \n",
       "50%                       0.08  \n",
       "75%                       0.09  \n",
       "max                       0.21  \n",
       "\n",
       "[8 rows x 30 columns]"
      ]
     },
     "execution_count": 5,
     "metadata": {},
     "output_type": "execute_result"
    }
   ],
   "source": [
    "pd.set_option('display.float_format', '{:.2f}'.format)\n",
    "df.describe()"
   ]
  },
  {
   "cell_type": "code",
   "execution_count": 6,
   "id": "1a7adfa8",
   "metadata": {
    "execution": {
     "iopub.execute_input": "2022-12-08T12:17:07.299836Z",
     "iopub.status.busy": "2022-12-08T12:17:07.299229Z",
     "iopub.status.idle": "2022-12-08T12:17:07.308647Z",
     "shell.execute_reply": "2022-12-08T12:17:07.307657Z"
    },
    "papermill": {
     "duration": 0.01935,
     "end_time": "2022-12-08T12:17:07.310977",
     "exception": false,
     "start_time": "2022-12-08T12:17:07.291627",
     "status": "completed"
    },
    "tags": []
   },
   "outputs": [],
   "source": [
    "categorical_val = []\n",
    "continous_val = []\n",
    "for column in df.columns:\n",
    "#     print('==============================')\n",
    "#     print(f\"{column} : {df[column].unique()}\")\n",
    "    if len(df[column].unique()) <= 10:\n",
    "        categorical_val.append(column)\n",
    "    else:\n",
    "        continous_val.append(column)"
   ]
  },
  {
   "cell_type": "code",
   "execution_count": 7,
   "id": "2de6fbd4",
   "metadata": {
    "execution": {
     "iopub.execute_input": "2022-12-08T12:17:07.325885Z",
     "iopub.status.busy": "2022-12-08T12:17:07.325512Z",
     "iopub.status.idle": "2022-12-08T12:17:07.331928Z",
     "shell.execute_reply": "2022-12-08T12:17:07.331076Z"
    },
    "papermill": {
     "duration": 0.016318,
     "end_time": "2022-12-08T12:17:07.334113",
     "exception": false,
     "start_time": "2022-12-08T12:17:07.317795",
     "status": "completed"
    },
    "tags": []
   },
   "outputs": [
    {
     "data": {
      "text/plain": [
       "Index(['mean radius', 'mean texture', 'mean perimeter', 'mean area',\n",
       "       'mean smoothness', 'mean compactness', 'mean concavity',\n",
       "       'mean concave points', 'mean symmetry', 'mean fractal dimension',\n",
       "       'radius error', 'texture error', 'perimeter error', 'area error',\n",
       "       'smoothness error', 'compactness error', 'concavity error',\n",
       "       'concave points error', 'symmetry error', 'fractal dimension error',\n",
       "       'worst radius', 'worst texture', 'worst perimeter', 'worst area',\n",
       "       'worst smoothness', 'worst compactness', 'worst concavity',\n",
       "       'worst concave points', 'worst symmetry', 'worst fractal dimension'],\n",
       "      dtype='object')"
      ]
     },
     "execution_count": 7,
     "metadata": {},
     "output_type": "execute_result"
    }
   ],
   "source": [
    "df.columns"
   ]
  },
  {
   "cell_type": "code",
   "execution_count": 8,
   "id": "241d8af1",
   "metadata": {
    "execution": {
     "iopub.execute_input": "2022-12-08T12:17:07.351151Z",
     "iopub.status.busy": "2022-12-08T12:17:07.350477Z",
     "iopub.status.idle": "2022-12-08T12:17:07.360770Z",
     "shell.execute_reply": "2022-12-08T12:17:07.359907Z"
    },
    "papermill": {
     "duration": 0.023169,
     "end_time": "2022-12-08T12:17:07.364029",
     "exception": false,
     "start_time": "2022-12-08T12:17:07.340860",
     "status": "completed"
    },
    "tags": []
   },
   "outputs": [
    {
     "name": "stdout",
     "output_type": "stream",
     "text": [
      "============================================\n",
      "mean radius ==> Missing zeros : 0\n",
      "============================================\n",
      "mean texture ==> Missing zeros : 0\n",
      "============================================\n",
      "mean perimeter ==> Missing zeros : 0\n",
      "============================================\n",
      "mean area ==> Missing zeros : 0\n",
      "============================================\n",
      "mean smoothness ==> Missing zeros : 0\n",
      "============================================\n",
      "mean compactness ==> Missing zeros : 0\n",
      "============================================\n",
      "mean concavity ==> Missing zeros : 13\n",
      "============================================\n",
      "mean concave points ==> Missing zeros : 13\n",
      "============================================\n",
      "mean symmetry ==> Missing zeros : 0\n",
      "============================================\n",
      "mean fractal dimension ==> Missing zeros : 0\n"
     ]
    }
   ],
   "source": [
    "# How many missing zeros are mising in each feature\n",
    "feature_columns = ['mean radius', 'mean texture', 'mean perimeter', 'mean area', 'mean smoothness', 'mean compactness', 'mean concavity', 'mean concave points','mean symmetry', 'mean fractal dimension']\n",
    "for column in feature_columns:\n",
    "    print(\"============================================\")\n",
    "    print(f\"{column} ==> Missing zeros : {len(df.loc[df[column] == 0])}\")"
   ]
  },
  {
   "cell_type": "code",
   "execution_count": 9,
   "id": "1baa431b",
   "metadata": {
    "execution": {
     "iopub.execute_input": "2022-12-08T12:17:07.385901Z",
     "iopub.status.busy": "2022-12-08T12:17:07.385186Z",
     "iopub.status.idle": "2022-12-08T12:17:07.561367Z",
     "shell.execute_reply": "2022-12-08T12:17:07.560067Z"
    },
    "papermill": {
     "duration": 0.19014,
     "end_time": "2022-12-08T12:17:07.565213",
     "exception": false,
     "start_time": "2022-12-08T12:17:07.375073",
     "status": "completed"
    },
    "tags": []
   },
   "outputs": [],
   "source": [
    "from sklearn.impute import SimpleImputer\n",
    "\n",
    "fill_values = SimpleImputer(missing_values=0, strategy=\"mean\", copy=False)\n",
    "\n",
    "df[feature_columns] = fill_values.fit_transform(df[feature_columns])"
   ]
  },
  {
   "cell_type": "code",
   "execution_count": 10,
   "id": "f3e8a912",
   "metadata": {
    "execution": {
     "iopub.execute_input": "2022-12-08T12:17:07.584953Z",
     "iopub.status.busy": "2022-12-08T12:17:07.584563Z",
     "iopub.status.idle": "2022-12-08T12:17:07.596043Z",
     "shell.execute_reply": "2022-12-08T12:17:07.595066Z"
    },
    "papermill": {
     "duration": 0.023172,
     "end_time": "2022-12-08T12:17:07.598758",
     "exception": false,
     "start_time": "2022-12-08T12:17:07.575586",
     "status": "completed"
    },
    "tags": []
   },
   "outputs": [
    {
     "name": "stdout",
     "output_type": "stream",
     "text": [
      "============================================\n",
      "mean radius ==> Missing zeros : 0\n",
      "============================================\n",
      "mean texture ==> Missing zeros : 0\n",
      "============================================\n",
      "mean perimeter ==> Missing zeros : 0\n",
      "============================================\n",
      "mean area ==> Missing zeros : 0\n",
      "============================================\n",
      "mean smoothness ==> Missing zeros : 0\n",
      "============================================\n",
      "mean compactness ==> Missing zeros : 0\n",
      "============================================\n",
      "mean concavity ==> Missing zeros : 0\n",
      "============================================\n",
      "mean concave points ==> Missing zeros : 0\n",
      "============================================\n",
      "mean symmetry ==> Missing zeros : 0\n",
      "============================================\n",
      "mean fractal dimension ==> Missing zeros : 0\n"
     ]
    }
   ],
   "source": [
    "for column in feature_columns:\n",
    "    print(\"============================================\")\n",
    "    print(f\"{column} ==> Missing zeros : {len(df.loc[df[column] == 0])}\")"
   ]
  },
  {
   "cell_type": "code",
   "execution_count": 11,
   "id": "cd1a23c2",
   "metadata": {
    "execution": {
     "iopub.execute_input": "2022-12-08T12:17:07.622810Z",
     "iopub.status.busy": "2022-12-08T12:17:07.622182Z",
     "iopub.status.idle": "2022-12-08T12:17:07.629192Z",
     "shell.execute_reply": "2022-12-08T12:17:07.628408Z"
    },
    "papermill": {
     "duration": 0.021665,
     "end_time": "2022-12-08T12:17:07.631670",
     "exception": false,
     "start_time": "2022-12-08T12:17:07.610005",
     "status": "completed"
    },
    "tags": []
   },
   "outputs": [],
   "source": [
    "from sklearn.model_selection import train_test_split\n",
    "\n",
    "\n",
    "X = df[feature_columns]\n",
    "y = dataset['target']\n",
    "\n",
    "X_train, X_test, y_train, y_test = train_test_split(X, y, test_size=0.3, random_state=42)"
   ]
  },
  {
   "cell_type": "code",
   "execution_count": 12,
   "id": "00792073",
   "metadata": {
    "execution": {
     "iopub.execute_input": "2022-12-08T12:17:07.650511Z",
     "iopub.status.busy": "2022-12-08T12:17:07.649869Z",
     "iopub.status.idle": "2022-12-08T12:17:07.657110Z",
     "shell.execute_reply": "2022-12-08T12:17:07.656319Z"
    },
    "papermill": {
     "duration": 0.018122,
     "end_time": "2022-12-08T12:17:07.659176",
     "exception": false,
     "start_time": "2022-12-08T12:17:07.641054",
     "status": "completed"
    },
    "tags": []
   },
   "outputs": [],
   "source": [
    "from sklearn.metrics import confusion_matrix, accuracy_score, classification_report\n",
    "\n",
    "\n",
    "def evaluate(model, X_train, X_test, y_train, y_test):\n",
    "    y_test_pred = model.predict(X_test)\n",
    "    y_train_pred = model.predict(X_train)\n",
    "\n",
    "    print(\"TRAINIG RESULTS: \\n===============================\")\n",
    "    clf_report = pd.DataFrame(classification_report(y_train, y_train_pred, output_dict=True))\n",
    "    print(f\"CONFUSION MATRIX:\\n{confusion_matrix(y_train, y_train_pred)}\")\n",
    "    print(f\"ACCURACY SCORE:\\n{accuracy_score(y_train, y_train_pred):.4f}\")\n",
    "    print(f\"CLASSIFICATION REPORT:\\n{clf_report}\")\n",
    "\n",
    "    print(\"TESTING RESULTS: \\n===============================\")\n",
    "    clf_report = pd.DataFrame(classification_report(y_test, y_test_pred, output_dict=True))\n",
    "    print(f\"CONFUSION MATRIX:\\n{confusion_matrix(y_test, y_test_pred)}\")\n",
    "    print(f\"ACCURACY SCORE:\\n{accuracy_score(y_test, y_test_pred):.4f}\")\n",
    "    print(f\"CLASSIFICATION REPORT:\\n{clf_report}\")"
   ]
  },
  {
   "cell_type": "code",
   "execution_count": 13,
   "id": "0da1d50e",
   "metadata": {
    "execution": {
     "iopub.execute_input": "2022-12-08T12:17:07.675612Z",
     "iopub.status.busy": "2022-12-08T12:17:07.675046Z",
     "iopub.status.idle": "2022-12-08T12:17:12.026014Z",
     "shell.execute_reply": "2022-12-08T12:17:12.025185Z"
    },
    "papermill": {
     "duration": 4.361972,
     "end_time": "2022-12-08T12:17:12.028470",
     "exception": false,
     "start_time": "2022-12-08T12:17:07.666498",
     "status": "completed"
    },
    "tags": []
   },
   "outputs": [
    {
     "name": "stdout",
     "output_type": "stream",
     "text": [
      "TRAINIG RESULTS: \n",
      "===============================\n",
      "CONFUSION MATRIX:\n",
      "[[149   0]\n",
      " [  0 249]]\n",
      "ACCURACY SCORE:\n",
      "1.0000\n",
      "CLASSIFICATION REPORT:\n",
      "               0      1  accuracy  macro avg  weighted avg\n",
      "precision   1.00   1.00      1.00       1.00          1.00\n",
      "recall      1.00   1.00      1.00       1.00          1.00\n",
      "f1-score    1.00   1.00      1.00       1.00          1.00\n",
      "support   149.00 249.00      1.00     398.00        398.00\n",
      "TESTING RESULTS: \n",
      "===============================\n",
      "CONFUSION MATRIX:\n",
      "[[ 61   2]\n",
      " [  5 103]]\n",
      "ACCURACY SCORE:\n",
      "0.9591\n",
      "CLASSIFICATION REPORT:\n",
      "              0      1  accuracy  macro avg  weighted avg\n",
      "precision  0.92   0.98      0.96       0.95          0.96\n",
      "recall     0.97   0.95      0.96       0.96          0.96\n",
      "f1-score   0.95   0.97      0.96       0.96          0.96\n",
      "support   63.00 108.00      0.96     171.00        171.00\n"
     ]
    }
   ],
   "source": [
    "from sklearn.ensemble import BaggingClassifier\n",
    "from sklearn.tree import DecisionTreeClassifier\n",
    "\n",
    "tree = DecisionTreeClassifier()\n",
    "bagging_clf = BaggingClassifier(base_estimator=tree, n_estimators=1500, random_state=42)\n",
    "bagging_clf.fit(X_train, y_train)\n",
    "\n",
    "evaluate(bagging_clf, X_train, X_test, y_train, y_test)"
   ]
  },
  {
   "cell_type": "code",
   "execution_count": 14,
   "id": "fdddc2cd",
   "metadata": {
    "execution": {
     "iopub.execute_input": "2022-12-08T12:17:12.045948Z",
     "iopub.status.busy": "2022-12-08T12:17:12.045325Z",
     "iopub.status.idle": "2022-12-08T12:17:12.434535Z",
     "shell.execute_reply": "2022-12-08T12:17:12.433686Z"
    },
    "papermill": {
     "duration": 0.400156,
     "end_time": "2022-12-08T12:17:12.436844",
     "exception": false,
     "start_time": "2022-12-08T12:17:12.036688",
     "status": "completed"
    },
    "tags": []
   },
   "outputs": [],
   "source": [
    "scores = {\n",
    "    'Bagging Classifier': {\n",
    "        'Train': accuracy_score(y_train, bagging_clf.predict(X_train)),\n",
    "        'Test': accuracy_score(y_test, bagging_clf.predict(X_test)),\n",
    "    },\n",
    "}"
   ]
  },
  {
   "cell_type": "code",
   "execution_count": 15,
   "id": "126a0b40",
   "metadata": {
    "execution": {
     "iopub.execute_input": "2022-12-08T12:17:12.453546Z",
     "iopub.status.busy": "2022-12-08T12:17:12.453142Z",
     "iopub.status.idle": "2022-12-08T12:17:14.468199Z",
     "shell.execute_reply": "2022-12-08T12:17:14.466711Z"
    },
    "papermill": {
     "duration": 2.026362,
     "end_time": "2022-12-08T12:17:14.470676",
     "exception": false,
     "start_time": "2022-12-08T12:17:12.444314",
     "status": "completed"
    },
    "tags": []
   },
   "outputs": [
    {
     "name": "stdout",
     "output_type": "stream",
     "text": [
      "TRAINIG RESULTS: \n",
      "===============================\n",
      "CONFUSION MATRIX:\n",
      "[[149   0]\n",
      " [  0 249]]\n",
      "ACCURACY SCORE:\n",
      "1.0000\n",
      "CLASSIFICATION REPORT:\n",
      "               0      1  accuracy  macro avg  weighted avg\n",
      "precision   1.00   1.00      1.00       1.00          1.00\n",
      "recall      1.00   1.00      1.00       1.00          1.00\n",
      "f1-score    1.00   1.00      1.00       1.00          1.00\n",
      "support   149.00 249.00      1.00     398.00        398.00\n",
      "TESTING RESULTS: \n",
      "===============================\n",
      "CONFUSION MATRIX:\n",
      "[[ 60   3]\n",
      " [  4 104]]\n",
      "ACCURACY SCORE:\n",
      "0.9591\n",
      "CLASSIFICATION REPORT:\n",
      "              0      1  accuracy  macro avg  weighted avg\n",
      "precision  0.94   0.97      0.96       0.95          0.96\n",
      "recall     0.95   0.96      0.96       0.96          0.96\n",
      "f1-score   0.94   0.97      0.96       0.96          0.96\n",
      "support   63.00 108.00      0.96     171.00        171.00\n"
     ]
    }
   ],
   "source": [
    "from sklearn.ensemble import RandomForestClassifier\n",
    "\n",
    "rf_clf = RandomForestClassifier(random_state=42, n_estimators=1000)\n",
    "rf_clf.fit(X_train, y_train)\n",
    "evaluate(rf_clf, X_train, X_test, y_train, y_test)"
   ]
  },
  {
   "cell_type": "code",
   "execution_count": 16,
   "id": "83f29766",
   "metadata": {
    "execution": {
     "iopub.execute_input": "2022-12-08T12:17:14.487982Z",
     "iopub.status.busy": "2022-12-08T12:17:14.486878Z",
     "iopub.status.idle": "2022-12-08T12:17:14.763558Z",
     "shell.execute_reply": "2022-12-08T12:17:14.762338Z"
    },
    "papermill": {
     "duration": 0.287811,
     "end_time": "2022-12-08T12:17:14.766304",
     "exception": false,
     "start_time": "2022-12-08T12:17:14.478493",
     "status": "completed"
    },
    "tags": []
   },
   "outputs": [],
   "source": [
    "scores['Random Forest'] = {\n",
    "        'Train': accuracy_score(y_train, rf_clf.predict(X_train)),\n",
    "        'Test': accuracy_score(y_test, rf_clf.predict(X_test)),\n",
    "    }"
   ]
  },
  {
   "cell_type": "code",
   "execution_count": 17,
   "id": "41e3b60d",
   "metadata": {
    "execution": {
     "iopub.execute_input": "2022-12-08T12:17:14.783046Z",
     "iopub.status.busy": "2022-12-08T12:17:14.782713Z",
     "iopub.status.idle": "2022-12-08T12:17:14.874829Z",
     "shell.execute_reply": "2022-12-08T12:17:14.873752Z"
    },
    "papermill": {
     "duration": 0.102862,
     "end_time": "2022-12-08T12:17:14.877153",
     "exception": false,
     "start_time": "2022-12-08T12:17:14.774291",
     "status": "completed"
    },
    "tags": []
   },
   "outputs": [
    {
     "name": "stdout",
     "output_type": "stream",
     "text": [
      "TRAINIG RESULTS: \n",
      "===============================\n",
      "CONFUSION MATRIX:\n",
      "[[146   3]\n",
      " [  2 247]]\n",
      "ACCURACY SCORE:\n",
      "0.9874\n",
      "CLASSIFICATION REPORT:\n",
      "               0      1  accuracy  macro avg  weighted avg\n",
      "precision   0.99   0.99      0.99       0.99          0.99\n",
      "recall      0.98   0.99      0.99       0.99          0.99\n",
      "f1-score    0.98   0.99      0.99       0.99          0.99\n",
      "support   149.00 249.00      0.99     398.00        398.00\n",
      "TESTING RESULTS: \n",
      "===============================\n",
      "CONFUSION MATRIX:\n",
      "[[ 60   3]\n",
      " [  4 104]]\n",
      "ACCURACY SCORE:\n",
      "0.9591\n",
      "CLASSIFICATION REPORT:\n",
      "              0      1  accuracy  macro avg  weighted avg\n",
      "precision  0.94   0.97      0.96       0.95          0.96\n",
      "recall     0.95   0.96      0.96       0.96          0.96\n",
      "f1-score   0.94   0.97      0.96       0.96          0.96\n",
      "support   63.00 108.00      0.96     171.00        171.00\n"
     ]
    }
   ],
   "source": [
    "# AdaBoost\n",
    "from sklearn.ensemble import AdaBoostClassifier\n",
    "\n",
    "ada_boost_clf = AdaBoostClassifier(n_estimators=30)\n",
    "ada_boost_clf.fit(X_train, y_train)\n",
    "evaluate(ada_boost_clf, X_train, X_test, y_train, y_test)"
   ]
  },
  {
   "cell_type": "code",
   "execution_count": 18,
   "id": "3aecf6b0",
   "metadata": {
    "execution": {
     "iopub.execute_input": "2022-12-08T12:17:14.893851Z",
     "iopub.status.busy": "2022-12-08T12:17:14.893464Z",
     "iopub.status.idle": "2022-12-08T12:17:14.914091Z",
     "shell.execute_reply": "2022-12-08T12:17:14.913264Z"
    },
    "papermill": {
     "duration": 0.03149,
     "end_time": "2022-12-08T12:17:14.916165",
     "exception": false,
     "start_time": "2022-12-08T12:17:14.884675",
     "status": "completed"
    },
    "tags": []
   },
   "outputs": [],
   "source": [
    "scores['AdaBoost'] = {\n",
    "        'Train': accuracy_score(y_train, ada_boost_clf.predict(X_train)),\n",
    "        'Test': accuracy_score(y_test, ada_boost_clf.predict(X_test)),\n",
    "    }"
   ]
  },
  {
   "cell_type": "code",
   "execution_count": 19,
   "id": "de17f61a",
   "metadata": {
    "execution": {
     "iopub.execute_input": "2022-12-08T12:17:14.933780Z",
     "iopub.status.busy": "2022-12-08T12:17:14.932758Z",
     "iopub.status.idle": "2022-12-08T12:17:15.120190Z",
     "shell.execute_reply": "2022-12-08T12:17:15.118172Z"
    },
    "papermill": {
     "duration": 0.198681,
     "end_time": "2022-12-08T12:17:15.122733",
     "exception": false,
     "start_time": "2022-12-08T12:17:14.924052",
     "status": "completed"
    },
    "tags": []
   },
   "outputs": [
    {
     "name": "stdout",
     "output_type": "stream",
     "text": [
      "TRAINIG RESULTS: \n",
      "===============================\n",
      "CONFUSION MATRIX:\n",
      "[[149   0]\n",
      " [  0 249]]\n",
      "ACCURACY SCORE:\n",
      "1.0000\n",
      "CLASSIFICATION REPORT:\n",
      "               0      1  accuracy  macro avg  weighted avg\n",
      "precision   1.00   1.00      1.00       1.00          1.00\n",
      "recall      1.00   1.00      1.00       1.00          1.00\n",
      "f1-score    1.00   1.00      1.00       1.00          1.00\n",
      "support   149.00 249.00      1.00     398.00        398.00\n",
      "TESTING RESULTS: \n",
      "===============================\n",
      "CONFUSION MATRIX:\n",
      "[[ 61   2]\n",
      " [  4 104]]\n",
      "ACCURACY SCORE:\n",
      "0.9649\n",
      "CLASSIFICATION REPORT:\n",
      "              0      1  accuracy  macro avg  weighted avg\n",
      "precision  0.94   0.98      0.96       0.96          0.97\n",
      "recall     0.97   0.96      0.96       0.97          0.96\n",
      "f1-score   0.95   0.97      0.96       0.96          0.97\n",
      "support   63.00 108.00      0.96     171.00        171.00\n"
     ]
    }
   ],
   "source": [
    "# Stochastic Gradient Boosting\n",
    "from sklearn.ensemble import GradientBoostingClassifier\n",
    "\n",
    "grad_boost_clf = GradientBoostingClassifier(n_estimators=100, random_state=42)\n",
    "grad_boost_clf.fit(X_train, y_train)\n",
    "evaluate(grad_boost_clf, X_train, X_test, y_train, y_test)"
   ]
  },
  {
   "cell_type": "code",
   "execution_count": 20,
   "id": "7f685ea9",
   "metadata": {
    "execution": {
     "iopub.execute_input": "2022-12-08T12:17:15.139831Z",
     "iopub.status.busy": "2022-12-08T12:17:15.139417Z",
     "iopub.status.idle": "2022-12-08T12:17:15.151128Z",
     "shell.execute_reply": "2022-12-08T12:17:15.150067Z"
    },
    "papermill": {
     "duration": 0.02291,
     "end_time": "2022-12-08T12:17:15.153376",
     "exception": false,
     "start_time": "2022-12-08T12:17:15.130466",
     "status": "completed"
    },
    "tags": []
   },
   "outputs": [],
   "source": [
    "scores['Gradient Boosting'] = {\n",
    "        'Train': accuracy_score(y_train, grad_boost_clf.predict(X_train)),\n",
    "        'Test': accuracy_score(y_test, grad_boost_clf.predict(X_test)),\n",
    "    }"
   ]
  },
  {
   "cell_type": "code",
   "execution_count": 21,
   "id": "90fdfafd",
   "metadata": {
    "execution": {
     "iopub.execute_input": "2022-12-08T12:17:15.170919Z",
     "iopub.status.busy": "2022-12-08T12:17:15.170229Z",
     "iopub.status.idle": "2022-12-08T12:17:15.224917Z",
     "shell.execute_reply": "2022-12-08T12:17:15.223384Z"
    },
    "papermill": {
     "duration": 0.066437,
     "end_time": "2022-12-08T12:17:15.227527",
     "exception": false,
     "start_time": "2022-12-08T12:17:15.161090",
     "status": "completed"
    },
    "tags": []
   },
   "outputs": [
    {
     "name": "stdout",
     "output_type": "stream",
     "text": [
      "TRAINIG RESULTS: \n",
      "===============================\n",
      "CONFUSION MATRIX:\n",
      "[[120  29]\n",
      " [  4 245]]\n",
      "ACCURACY SCORE:\n",
      "0.9171\n",
      "CLASSIFICATION REPORT:\n",
      "               0      1  accuracy  macro avg  weighted avg\n",
      "precision   0.97   0.89      0.92       0.93          0.92\n",
      "recall      0.81   0.98      0.92       0.89          0.92\n",
      "f1-score    0.88   0.94      0.92       0.91          0.92\n",
      "support   149.00 249.00      0.92     398.00        398.00\n",
      "TESTING RESULTS: \n",
      "===============================\n",
      "CONFUSION MATRIX:\n",
      "[[ 56   7]\n",
      " [  1 107]]\n",
      "ACCURACY SCORE:\n",
      "0.9532\n",
      "CLASSIFICATION REPORT:\n",
      "              0      1  accuracy  macro avg  weighted avg\n",
      "precision  0.98   0.94      0.95       0.96          0.95\n",
      "recall     0.89   0.99      0.95       0.94          0.95\n",
      "f1-score   0.93   0.96      0.95       0.95          0.95\n",
      "support   63.00 108.00      0.95     171.00        171.00\n"
     ]
    }
   ],
   "source": [
    "from sklearn.ensemble import VotingClassifier\n",
    "from sklearn.linear_model import LogisticRegression\n",
    "from sklearn.svm import SVC\n",
    "\n",
    "estimators = []\n",
    "log_reg = LogisticRegression(solver='liblinear')\n",
    "estimators.append(('Logistic', log_reg))\n",
    "\n",
    "tree = DecisionTreeClassifier()\n",
    "estimators.append(('Tree', tree))\n",
    "\n",
    "svm_clf = SVC(gamma='scale')\n",
    "estimators.append(('SVM', svm_clf))\n",
    "\n",
    "voting = VotingClassifier(estimators=estimators)\n",
    "voting.fit(X_train, y_train)\n",
    "\n",
    "evaluate(voting, X_train, X_test, y_train, y_test)"
   ]
  },
  {
   "cell_type": "code",
   "execution_count": 22,
   "id": "e7f1709b",
   "metadata": {
    "execution": {
     "iopub.execute_input": "2022-12-08T12:17:15.244244Z",
     "iopub.status.busy": "2022-12-08T12:17:15.243856Z",
     "iopub.status.idle": "2022-12-08T12:17:15.266564Z",
     "shell.execute_reply": "2022-12-08T12:17:15.265662Z"
    },
    "papermill": {
     "duration": 0.0337,
     "end_time": "2022-12-08T12:17:15.268943",
     "exception": false,
     "start_time": "2022-12-08T12:17:15.235243",
     "status": "completed"
    },
    "tags": []
   },
   "outputs": [],
   "source": [
    "scores['Voting'] = {\n",
    "        'Train': accuracy_score(y_train, voting.predict(X_train)),\n",
    "        'Test': accuracy_score(y_test, voting.predict(X_test)),\n",
    "    }"
   ]
  },
  {
   "cell_type": "code",
   "execution_count": 23,
   "id": "cdf37928",
   "metadata": {
    "execution": {
     "iopub.execute_input": "2022-12-08T12:17:15.286172Z",
     "iopub.status.busy": "2022-12-08T12:17:15.285509Z",
     "iopub.status.idle": "2022-12-08T12:17:15.658283Z",
     "shell.execute_reply": "2022-12-08T12:17:15.657156Z"
    },
    "papermill": {
     "duration": 0.383852,
     "end_time": "2022-12-08T12:17:15.660675",
     "exception": false,
     "start_time": "2022-12-08T12:17:15.276823",
     "status": "completed"
    },
    "tags": []
   },
   "outputs": [
    {
     "data": {
      "text/plain": [
       "<AxesSubplot:>"
      ]
     },
     "execution_count": 23,
     "metadata": {},
     "output_type": "execute_result"
    },
    {
     "data": {
      "image/png": "[encoded data removed]",
      "text/plain": [
       "<Figure size 1080x576 with 1 Axes>"
      ]
     },
     "metadata": {},
     "output_type": "display_data"
    }
   ],
   "source": [
    "scores_df = pd.DataFrame(scores)\n",
    "\n",
    "scores_df.plot(kind='barh', figsize=(15, 8))"
   ]
  },
  {
   "cell_type": "code",
   "execution_count": 24,
   "id": "cc5194bc",
   "metadata": {
    "execution": {
     "iopub.execute_input": "2022-12-08T12:17:15.678500Z",
     "iopub.status.busy": "2022-12-08T12:17:15.678095Z",
     "iopub.status.idle": "2022-12-08T12:17:15.684357Z",
     "shell.execute_reply": "2022-12-08T12:17:15.682957Z"
    },
    "papermill": {
     "duration": 0.017278,
     "end_time": "2022-12-08T12:17:15.686011",
     "exception": true,
     "start_time": "2022-12-08T12:17:15.668733",
     "status": "failed"
    },
    "tags": []
   },
   "outputs": [
    {
     "ename": "SyntaxError",
     "evalue": "invalid syntax (1502842709.py, line 1)",
     "output_type": "error",
     "traceback": [
      "\u001b[0;36m  File \u001b[0;32m\"/tmp/ipykernel_19/1502842709.py\"\u001b[0;36m, line \u001b[0;32m1\u001b[0m\n\u001b[0;31m    https://www.kaggle.com/code/faressayah/ensemble-ml-algorithms-bagging-boosting-voting/notebook\u001b[0m\n\u001b[0m           ^\u001b[0m\n\u001b[0;31mSyntaxError\u001b[0m\u001b[0;31m:\u001b[0m invalid syntax\n"
     ]
    }
   ],
   "source": [
    "https://www.kaggle.com/code/faressayah/ensemble-ml-algorithms-bagging-boosting-voting/notebook"
   ]
  }
 ],
 "metadata": {
  "kernelspec": {
   "display_name": "Python 3",
   "language": "python",
   "name": "python3"
  },
  "language_info": {
   "codemirror_mode": {
    "name": "ipython",
    "version": 3
   },
   "file_extension": ".py",
   "mimetype": "text/x-python",
   "name": "python",
   "nbconvert_exporter": "python",
   "pygments_lexer": "ipython3",
   "version": "3.7.12"
  },
  "papermill": {
   "default_parameters": {},
   "duration": 18.361086,
   "end_time": "2022-12-08T12:17:16.415610",
   "environment_variables": {},
   "exception": true,
   "input_path": "__notebook__.ipynb",
   "output_path": "__notebook__.ipynb",
   "parameters": {},
   "start_time": "2022-12-08T12:16:58.054524",
   "version": "2.3.4"
  }
 },
 "nbformat": 4,
 "nbformat_minor": 5
}
